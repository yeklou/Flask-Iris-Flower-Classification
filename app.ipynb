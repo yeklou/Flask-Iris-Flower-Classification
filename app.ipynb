{
 "cells": [
  {
   "cell_type": "code",
   "execution_count": null,
   "id": "b5df2aed",
   "metadata": {
    "ExecuteTime": {
     "start_time": "2023-09-05T16:54:39.380226600Z"
    },
    "is_executing": true
   },
   "outputs": [
    {
     "name": "stdout",
     "output_type": "stream",
     "text": [
      " * Serving Flask app \"__main__\" (lazy loading)\n",
      " * Environment: production\n",
      "\u001b[31m   WARNING: This is a development server. Do not use it in a production deployment.\u001b[0m\n",
      "\u001b[2m   Use a production WSGI server instead.\u001b[0m\n",
      " * Debug mode: off\n"
     ]
    },
    {
     "name": "stderr",
     "output_type": "stream",
     "text": [
      " * Running on http://127.0.0.1:5000/ (Press CTRL+C to quit)\n"
     ]
    }
   ],
   "source": [
    "from flask import Flask, render_template, request\n",
    "import pickle\n",
    "import pandas as pd\n",
    "\n",
    "app = Flask(__name__)\n",
    "\n",
    "# Load the Pickle model\n",
    "with open('model.pkl', 'rb') as model_file:\n",
    "    model = pickle.load(model_file)\n",
    "\n",
    "@app.route('/')\n",
    "def index():\n",
    "    return render_template('index.html')\n",
    "\n",
    "@app.route('/predict', methods=['POST'])\n",
    "def predict():\n",
    "    try:\n",
    "        # Get input data from the HTML form\n",
    "        feature1 = float(request.form.get('feature1'))\n",
    "        feature2 = float(request.form.get('feature2'))\n",
    "        feature3 = float(request.form.get('feature3'))\n",
    "        feature4 = float(request.form.get('feature4'))\n",
    "\n",
    "        # Make a prediction using the model\n",
    "        prediction = model.predict([[feature1, feature2, feature3, feature4]])[0]\n",
    "        \n",
    "        # Map the prediction to the Iris class description\n",
    "        prediction_label=None\n",
    "        if prediction == 0:\n",
    "            prediction_label = \"Setosa.\"\n",
    "        elif prediction == 1:\n",
    "            prediction_label = \"Versicolor\"\n",
    "        elif prediction == 2:\n",
    "            prediction_label = \"Virginica\"\n",
    "        else:\n",
    "            prediction_label= \"Unknown\"\n",
    "        \n",
    "           \n",
    "        # Pass the prediction to the HTML template\n",
    "        return render_template('index.html', prediction=prediction_label)\n",
    "\n",
    "    except Exception as e:\n",
    "        return render_template('index.html', error_message=str(e))\n",
    "\n",
    "if __name__ == '__main__':\n",
    "    app.run()\n"
   ]
  }
 ],
 "metadata": {
  "kernelspec": {
   "display_name": "Python 3 (ipykernel)",
   "language": "python",
   "name": "python3"
  },
  "language_info": {
   "codemirror_mode": {
    "name": "ipython",
    "version": 3
   },
   "file_extension": ".py",
   "mimetype": "text/x-python",
   "name": "python",
   "nbconvert_exporter": "python",
   "pygments_lexer": "ipython3",
   "version": "3.9.12"
  },
  "vscode": {
   "interpreter": {
    "hash": "2cc7fa501d112163e30dc6d9f9caeb51fa69cfe14254447bb289c841808f0dc7"
   }
  }
 },
 "nbformat": 4,
 "nbformat_minor": 5
}
